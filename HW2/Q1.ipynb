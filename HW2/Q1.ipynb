{
 "cells": [
  {
   "cell_type": "code",
   "execution_count": 1,
   "metadata": {},
   "outputs": [],
   "source": [
    "import numpy as np\n",
    "import pandas as pd\n",
    "import matplotlib.pyplot as plt\n",
    "from sklearn.preprocessing import LabelEncoder\n",
    "from sklearn.model_selection import train_test_split\n",
    "from sklearn.neural_network import MLPClassifier\n",
    "from sklearn.metrics import accuracy_score\n",
    "from sklearn.metrics import confusion_matrix\n",
    "from sklearn import svm\n",
    "from sklearn.neighbors import KNeighborsClassifier"
   ]
  },
  {
   "cell_type": "code",
   "execution_count": 2,
   "metadata": {},
   "outputs": [],
   "source": [
    "\n",
    "# Read the training data from the Assignment1/dataset folder in the dataset\n",
    "dataset = pd.read_csv('./dataset/adultTrain.data', sep=',', encoding='latin1', header= None)\n",
    "\n",
    "#Then we read the test data from the Assignment1/dataset folder in the testset\n",
    "testset = pd.read_csv('./dataset/adultTest.data', sep=',', encoding='latin1', header= None)\n",
    "#print (\"Dataset Lenght:: \", len(dataset))\n",
    "#print (\"Dataset Shape:: \", dataset.shape)\n",
    "\n",
    "le=LabelEncoder()\n",
    "tle=LabelEncoder()\n",
    "for column in dataset:\n",
    "    if dataset[column].dtypes == 'object':\n",
    "        data=dataset[column]\n",
    "        le.fit(data.values)\n",
    "        dataset[column] = le.transform(dataset[column])\n",
    "        \n",
    "for column in testset:\n",
    "    if testset[column].dtypes == 'object':\n",
    "        testdata=testset[column]\n",
    "        tle.fit(testdata.values)\n",
    "        testset[column] = tle.transform(testset[column])"
   ]
  },
  {
   "cell_type": "code",
   "execution_count": 3,
   "metadata": {},
   "outputs": [],
   "source": [
    "X_train = dataset.values[:, 0:14]\n",
    "y_train = dataset.values[:, -1]\n",
    "\n",
    "X_test = testset.values[:, 0:14]\n",
    "y_test = testset.values[:, -1]\n",
    "\n",
    "#print(X_test)"
   ]
  },
  {
   "cell_type": "code",
   "execution_count": 4,
   "metadata": {},
   "outputs": [
    {
     "data": {
      "text/plain": [
       "MLPClassifier(activation='relu', alpha=0.0001, batch_size='auto', beta_1=0.9,\n",
       "       beta_2=0.999, early_stopping=False, epsilon=1e-08,\n",
       "       hidden_layer_sizes=(10, 10, 10), learning_rate='constant',\n",
       "       learning_rate_init=0.001, max_iter=1000, momentum=0.9,\n",
       "       nesterovs_momentum=True, power_t=0.5, random_state=None,\n",
       "       shuffle=True, solver='adam', tol=0.0001, validation_fraction=0.1,\n",
       "       verbose=False, warm_start=False)"
      ]
     },
     "execution_count": 4,
     "metadata": {},
     "output_type": "execute_result"
    }
   ],
   "source": [
    "# Here we configure the architecure. These are hidden layers only\n",
    "# The function will automatically create input nodes (one for each variable) and \n",
    "# one output node (for the target value)\n",
    "#almost 64 input nodes\n",
    "#one layer 20 nodes\n",
    "mlp = MLPClassifier(hidden_layer_sizes=(10,10,10), max_iter=1000)\n",
    "mlp.fit(X_train,y_train)"
   ]
  },
  {
   "cell_type": "code",
   "execution_count": 79,
   "metadata": {},
   "outputs": [
    {
     "name": "stdout",
     "output_type": "stream",
     "text": [
      "[[24377   343]\n",
      " [ 6444  1397]]\n"
     ]
    }
   ],
   "source": [
    "predictions_train = mlp.predict(X_train)\n",
    "print(\"Confusion Matrix of NN Training set : \")\n",
    "print(confusion_matrix(y_train,predictions_train))"
   ]
  },
  {
   "cell_type": "code",
   "execution_count": null,
   "metadata": {},
   "outputs": [],
   "source": [
    "predictions_test = mlp.predict(X_test)\n",
    "print(\"Confusion Matrix of NN Test set : \")\n",
    "print( confusion_matrix(y_test,predictions_test))"
   ]
  },
  {
   "cell_type": "code",
   "execution_count": 82,
   "metadata": {},
   "outputs": [
    {
     "name": "stdout",
     "output_type": "stream",
     "text": [
      "Accuracy of NN Training set : 0.7916\n"
     ]
    }
   ],
   "source": [
    "accuracy = sum(1 for i in range(len(predictions_train)) if predictions_train[i] == y_train[i]) / float(len(predictions_train))\n",
    "print(\"Accuracy of NN Training set : {0:.4f}\".format(accuracy))"
   ]
  },
  {
   "cell_type": "code",
   "execution_count": 83,
   "metadata": {},
   "outputs": [
    {
     "name": "stdout",
     "output_type": "stream",
     "text": [
      "Accuracy of NN Test set : 0.7921\n"
     ]
    }
   ],
   "source": [
    "accuracy = sum(1 for i in range(len(predictions_test)) if predictions_test[i] == y_test[i]) / float(len(predictions_test))\n",
    "print(\"Accuracy of NN Test set : {0:.4f}\".format(accuracy))"
   ]
  },
  {
   "cell_type": "code",
   "execution_count": 84,
   "metadata": {},
   "outputs": [],
   "source": [
    "svc_radial = svm.SVC()\n",
    "svc_radial.fit(X_train, y_train)\n",
    "predicted_train= svc_radial.predict(X_train)\n",
    "predicted_test= svc_radial.predict(X_test)\n",
    "#might take a while"
   ]
  },
  {
   "cell_type": "code",
   "execution_count": 85,
   "metadata": {},
   "outputs": [
    {
     "name": "stdout",
     "output_type": "stream",
     "text": [
      "Confusion Matrix of SVM Training set : \n",
      "[[24720     0]\n",
      " [   42  7799]]\n"
     ]
    }
   ],
   "source": [
    "cnf_matrix = confusion_matrix(y_train, predicted_train)\n",
    "print(\"Confusion Matrix of SVM Training set : \")\n",
    "print(cnf_matrix)"
   ]
  },
  {
   "cell_type": "code",
   "execution_count": 86,
   "metadata": {},
   "outputs": [
    {
     "name": "stdout",
     "output_type": "stream",
     "text": [
      "Confusion Matrix of SVM Test set : \n",
      "[[12427     8]\n",
      " [ 3835    11]]\n"
     ]
    }
   ],
   "source": [
    "cnf_matrix = confusion_matrix(y_test, predicted_test)\n",
    "print(\"Confusion Matrix of SVM Test set : \")\n",
    "print(cnf_matrix)"
   ]
  },
  {
   "cell_type": "code",
   "execution_count": 87,
   "metadata": {},
   "outputs": [
    {
     "name": "stdout",
     "output_type": "stream",
     "text": [
      "Accuracy of SVM Train set : 0.9987\n"
     ]
    }
   ],
   "source": [
    "print(\"Accuracy of SVM Train set : {0:.4f}\".format(accuracy_score(y_train, predicted_train)))"
   ]
  },
  {
   "cell_type": "code",
   "execution_count": 88,
   "metadata": {},
   "outputs": [
    {
     "name": "stdout",
     "output_type": "stream",
     "text": [
      "Accuracy of SVM Test set : 0.7640\n"
     ]
    }
   ],
   "source": [
    "print(\"Accuracy of SVM Test set : {0:.4f}\".format(accuracy_score(y_test, predicted_test)))"
   ]
  },
  {
   "cell_type": "code",
   "execution_count": 89,
   "metadata": {},
   "outputs": [],
   "source": [
    "knn = KNeighborsClassifier(n_neighbors=20)\n",
    "knn.fit(X_train, y_train)\n",
    "predicted_train = knn.predict(X_train)\n",
    "predicted_test = knn.predict(X_test)"
   ]
  },
  {
   "cell_type": "code",
   "execution_count": 90,
   "metadata": {},
   "outputs": [
    {
     "name": "stdout",
     "output_type": "stream",
     "text": [
      "Confusion Matrix of KNN Training set : \n",
      "[[24419   301]\n",
      " [ 6065  1776]]\n"
     ]
    }
   ],
   "source": [
    "cnf_matrix = confusion_matrix(y_train, predicted_train)\n",
    "print(\"Confusion Matrix of KNN Training set : \")\n",
    "print(cnf_matrix)"
   ]
  },
  {
   "cell_type": "code",
   "execution_count": 91,
   "metadata": {},
   "outputs": [
    {
     "name": "stdout",
     "output_type": "stream",
     "text": [
      "Confusion Matrix of KNN Test set : \n",
      "[[12277   158]\n",
      " [ 3048   798]]\n"
     ]
    }
   ],
   "source": [
    "cnf_matrix = confusion_matrix(y_test, predicted_test)\n",
    "print(\"Confusion Matrix of KNN Test set : \")\n",
    "print(cnf_matrix)"
   ]
  },
  {
   "cell_type": "code",
   "execution_count": 92,
   "metadata": {},
   "outputs": [
    {
     "name": "stdout",
     "output_type": "stream",
     "text": [
      "Accuracy of KNN Train set : 0.8045\n"
     ]
    }
   ],
   "source": [
    "print(\"Accuracy of KNN Train set : {0:.4f}\".format(accuracy_score(y_train, predicted_train)))"
   ]
  },
  {
   "cell_type": "code",
   "execution_count": 93,
   "metadata": {},
   "outputs": [
    {
     "name": "stdout",
     "output_type": "stream",
     "text": [
      "Accuracy of KNN Test set : 0.8031\n"
     ]
    }
   ],
   "source": [
    "print(\"Accuracy of KNN Test set : {0:.4f}\".format(accuracy_score(y_test, predicted_test)))"
   ]
  }
 ],
 "metadata": {
  "kernelspec": {
   "display_name": "Python 3",
   "language": "python",
   "name": "python3"
  },
  "language_info": {
   "codemirror_mode": {
    "name": "ipython",
    "version": 3
   },
   "file_extension": ".py",
   "mimetype": "text/x-python",
   "name": "python",
   "nbconvert_exporter": "python",
   "pygments_lexer": "ipython3",
   "version": "3.6.4"
  }
 },
 "nbformat": 4,
 "nbformat_minor": 2
}
