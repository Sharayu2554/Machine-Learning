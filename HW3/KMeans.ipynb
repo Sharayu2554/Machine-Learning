{
 "cells": [
  {
   "cell_type": "code",
   "execution_count": 212,
   "metadata": {},
   "outputs": [],
   "source": [
    "import pandas as pd\n",
    "import numpy as np\n",
    "from sklearn.cluster import KMeans\n",
    "from scipy.cluster.hierarchy import fcluster\n",
    "from scipy.cluster.hierarchy import dendrogram, linkage\n",
    "from sklearn.preprocessing import LabelEncoder"
   ]
  },
  {
   "cell_type": "code",
   "execution_count": 213,
   "metadata": {},
   "outputs": [],
   "source": [
    "def algo(algo, numpyMatrix, TSS):\n",
    "    result = 0;\n",
    "    if algo is 'kmeans':\n",
    "        result = kmeansClustering(numpyMatrix, TSS)\n",
    "    elif algo is 'hclustering':\n",
    "        result = hClustering(numpyMatrix, TSS)\n",
    "    elif algo is 'guassian':\n",
    "        result =  guassianClustering(numpyMatrix, TSS)\n",
    "    return result"
   ]
  },
  {
   "cell_type": "code",
   "execution_count": 214,
   "metadata": {},
   "outputs": [],
   "source": [
    "def guassianClustering(numpyMatrix, TSS):\n",
    "    return "
   ]
  },
  {
   "cell_type": "code",
   "execution_count": 215,
   "metadata": {},
   "outputs": [],
   "source": [
    "def hClustering(numpyMatrix, TSS):\n",
    "    Z = linkage(numpyMatrix, 'ward')\n",
    "    for cluster in range(1,11):\n",
    "        clusteredMatrix = HClustering(cluster, Z)\n",
    "        clusteredMapResponse = groupResponse(clusteredMatrix, numpyMatrix)\n",
    "        clusteredMapMean = clusteredMean(clusteredMapResponse)\n",
    "        TWSS = getTWSS(clusteredMapResponse, clusteredMapMean)\n",
    "        print(\"K :\" + str(cluster))\n",
    "        #print(\"TWSS : \" + str(TWSS))\n",
    "        #print(\"TSS : \" + str(TSS))\n",
    "        print(\"result : \" + str(round(TWSS,2)/round(TSS,2)) )\n",
    "    return str(round(TWSS,2)/round(TSS,2))"
   ]
  },
  {
   "cell_type": "code",
   "execution_count": 216,
   "metadata": {},
   "outputs": [],
   "source": [
    "def kmeansClustering(numpyMatrix, TSS):\n",
    "    for cluster in range(1,11):\n",
    "        clusteredMatrix =  KMeansClustering(cluster, numpyMatrix)\n",
    "        clusteredMapResponse = groupResponse(clusteredMatrix, numpyMatrix)\n",
    "        clusteredMapMean = clusteredMean(clusteredMapResponse)\n",
    "        TWSS = getTWSS(clusteredMapResponse, clusteredMapMean)\n",
    "        print(\"K :\" + str(cluster))\n",
    "        #print(\"TWSS : \" + str(TWSS))\n",
    "        #print(\"TSS : \" + str(TSS))\n",
    "        print(\"result : \" + str(round(TWSS,2)/round(TSS,2)) )\n",
    "    return str(round(TWSS,2)/round(TSS,2))"
   ]
  },
  {
   "cell_type": "code",
   "execution_count": 217,
   "metadata": {},
   "outputs": [],
   "source": [
    "def getTWSS(clusteredMapResponse, clusteredMapMean):\n",
    "    TWSS = 0\n",
    "    for key in clusteredMapResponse:\n",
    "        #print(\"key :\" + str(key))\n",
    "        twsCluster = 0\n",
    "        response = clusteredMapResponse.get(key)\n",
    "        mean = clusteredMapMean.get(key)\n",
    "        for row in response:\n",
    "            for index in range(len(row)):\n",
    "                twsCluster = twsCluster + (row[index] - mean[index]) * (row[index] - mean[index])\n",
    "                #print(\"row[index] \" + str(row[index])  + \"mean[index] \" + str(mean[index]))\n",
    "        TWSS = TWSS + twsCluster\n",
    "    return TWSS"
   ]
  },
  {
   "cell_type": "code",
   "execution_count": 218,
   "metadata": {},
   "outputs": [],
   "source": [
    "def clusteredMean(clusteredMap):\n",
    "    hashMap = {}\n",
    "    for key in clusteredMap.keys():\n",
    "        values = clusteredMap.get(key) \n",
    "        meanMatrix = np.mean(values, axis=0)\n",
    "        hashMap[key] = meanMatrix\n",
    "    return hashMap"
   ]
  },
  {
   "cell_type": "code",
   "execution_count": 219,
   "metadata": {},
   "outputs": [],
   "source": [
    "def groupResponse(clusteredMatrix, originalMatrix):\n",
    "    hashMap = {}\n",
    "    resultMap =  {}\n",
    "    i = 0\n",
    "    for val in clusteredMatrix:\n",
    "        result = originalMatrix[i]\n",
    "        if val in hashMap:\n",
    "            hashMap.get(val).append(i)\n",
    "            resultMap.get(val).append(result)\n",
    "        else:\n",
    "            hashMap[val] = [i]\n",
    "            resultMap[val] = [result]\n",
    "        i = i + 1\n",
    "    return resultMap"
   ]
  },
  {
   "cell_type": "code",
   "execution_count": 220,
   "metadata": {},
   "outputs": [],
   "source": [
    "def totalSumSquareRawData(balance_data, meanMatrix):\n",
    "    TSS = 0\n",
    "    for index, row in balance_data.iterrows():\n",
    "        columnIndex = 0\n",
    "        for column in balance_data:\n",
    "            TSS = TSS + (row[column] - meanMatrix[columnIndex] )* (row[column] - meanMatrix[columnIndex] )\n",
    "            columnIndex = columnIndex + 1\n",
    "    return TSS"
   ]
  },
  {
   "cell_type": "code",
   "execution_count": 221,
   "metadata": {},
   "outputs": [],
   "source": [
    "def createColumnMatrix(column):\n",
    "    matrix= {}\n",
    "    for i in range(1,len(column)):\n",
    "        matrix[i] = column[i]\n",
    "    matrix = [(k,v) for k,v in matrix.items()]\n",
    "    return matrix"
   ]
  },
  {
   "cell_type": "code",
   "execution_count": 222,
   "metadata": {},
   "outputs": [],
   "source": [
    "def KMeansClustering(clusterNumber, data):\n",
    "    kmeans = KMeans(n_clusters=clusterNumber)\n",
    "    kmeans.fit(data)\n",
    "    y_kmeans = kmeans.predict(data)\n",
    "    return y_kmeans"
   ]
  },
  {
   "cell_type": "code",
   "execution_count": 223,
   "metadata": {},
   "outputs": [],
   "source": [
    "def HClustering(clusterNumber, data):\n",
    "    return fcluster(data, clusterNumber, criterion='maxclust')"
   ]
  },
  {
   "cell_type": "code",
   "execution_count": 224,
   "metadata": {},
   "outputs": [],
   "source": [
    "def getTSS(numpyMatrix):\n",
    "    meanMatrix = np.mean(numpyMatrix, axis=0)\n",
    "    TSS = totalSumSquareRawData(balance_data, meanMatrix)\n",
    "    return TSS"
   ]
  },
  {
   "cell_type": "code",
   "execution_count": 225,
   "metadata": {},
   "outputs": [],
   "source": [
    "def cleanData(balance_data):\n",
    "    balance_data = balance_data.fillna(0)\n",
    "    balance_data = balance_data.replace(np.inf, 0)\n",
    "    np.where(balance_data.values >= np.finfo(np.float64).max)\n",
    "    return balance_data"
   ]
  },
  {
   "cell_type": "code",
   "execution_count": 226,
   "metadata": {},
   "outputs": [],
   "source": [
    "def encodeDataSet(data):\n",
    "    le=LabelEncoder()\n",
    "    for column in data:\n",
    "        if data[column].dtypes == 'object':\n",
    "            data_new=data[column]\n",
    "            le.fit(data_new.values)\n",
    "            data[column] = le.transform(data[column])\n",
    "    return data"
   ]
  },
  {
   "cell_type": "code",
   "execution_count": 227,
   "metadata": {},
   "outputs": [],
   "source": [
    "balance_data = pd.read_csv('./Data/dataset_Facebook.csv', sep=';')\n",
    "balance_data = encodeDataSet(balance_data)\n",
    "balance_data = cleanData(balance_data)\n",
    "numpyMatrix = balance_data.as_matrix()"
   ]
  },
  {
   "cell_type": "code",
   "execution_count": 228,
   "metadata": {},
   "outputs": [
    {
     "name": "stdout",
     "output_type": "stream",
     "text": [
      "5150201236064.982\n"
     ]
    }
   ],
   "source": [
    "TSS = getTSS(numpyMatrix)\n",
    "print(TSS)"
   ]
  },
  {
   "cell_type": "code",
   "execution_count": 229,
   "metadata": {},
   "outputs": [
    {
     "name": "stdout",
     "output_type": "stream",
     "text": [
      "K :1\n",
      "result : 1.0\n",
      "K :2\n",
      "result : 0.4218295734072845\n",
      "K :3\n",
      "result : 0.20559160021814543\n",
      "K :4\n",
      "result : 0.13944954755546538\n",
      "K :5\n",
      "result : 0.09925650319158913\n",
      "K :6\n",
      "result : 0.07205460769470753\n",
      "K :7\n",
      "result : 0.05429367488892272\n",
      "K :8\n",
      "result : 0.04100738871593198\n",
      "K :9\n",
      "result : 0.03426773125677788\n",
      "K :10\n",
      "result : 0.028778536870433843\n"
     ]
    }
   ],
   "source": [
    "result = algo('kmeans', numpyMatrix, TSS)"
   ]
  },
  {
   "cell_type": "code",
   "execution_count": 230,
   "metadata": {},
   "outputs": [
    {
     "name": "stdout",
     "output_type": "stream",
     "text": [
      "K :1\n",
      "result : 1.0\n",
      "K :2\n",
      "result : 0.4218295734072845\n",
      "K :3\n",
      "result : 0.20988979209915504\n",
      "K :4\n",
      "result : 0.14068546440246094\n",
      "K :5\n",
      "result : 0.10101102413454631\n",
      "K :6\n",
      "result : 0.0729786310989864\n",
      "K :7\n",
      "result : 0.05495212079570072\n",
      "K :8\n",
      "result : 0.04589117212682793\n",
      "K :9\n",
      "result : 0.036976442949567735\n",
      "K :10\n",
      "result : 0.030236785490415582\n"
     ]
    }
   ],
   "source": [
    "result = algo('hclustering', numpyMatrix, TSS)"
   ]
  },
  {
   "cell_type": "code",
   "execution_count": 231,
   "metadata": {},
   "outputs": [
    {
     "name": "stdout",
     "output_type": "stream",
     "text": [
      "3693.258092631411\n"
     ]
    }
   ],
   "source": [
    "balance_data = pd.read_csv('./Data/Frogs_MFCCs.csv', sep=',')\n",
    "balance_data = balance_data.drop(['MFCCs_ 1', 'Family', 'Genus', 'Species', 'RecordID'], axis=1)\n",
    "balance_data = encodeDataSet(balance_data)\n",
    "balance_data = cleanData(balance_data)\n",
    "numpyMatrix = balance_data.as_matrix()\n",
    "\n",
    "TSS = getTSS(numpyMatrix)\n",
    "print(TSS)"
   ]
  },
  {
   "cell_type": "code",
   "execution_count": 232,
   "metadata": {},
   "outputs": [
    {
     "name": "stdout",
     "output_type": "stream",
     "text": [
      "K :1\n",
      "result : 1.0\n",
      "K :2\n",
      "result : 0.6584859988194711\n",
      "K :3\n",
      "result : 0.528543888055539\n",
      "K :4\n",
      "result : 0.4610263019662845\n",
      "K :5\n",
      "result : 0.40152060780990234\n",
      "K :6\n",
      "result : 0.37074021325333173\n",
      "K :7\n",
      "result : 0.3418443326492042\n",
      "K :8\n",
      "result : 0.3196660944531389\n",
      "K :9\n",
      "result : 0.29883355084667745\n",
      "K :10\n",
      "result : 0.2845724373588645\n"
     ]
    }
   ],
   "source": [
    "result = algo('kmeans', numpyMatrix, TSS)"
   ]
  },
  {
   "cell_type": "code",
   "execution_count": 233,
   "metadata": {},
   "outputs": [
    {
     "name": "stdout",
     "output_type": "stream",
     "text": [
      "K :1\n",
      "result : 1.0\n",
      "K :2\n",
      "result : 0.6627911384522075\n",
      "K :3\n",
      "result : 0.5549812360895252\n",
      "K :4\n",
      "result : 0.4813037803999718\n",
      "K :5\n",
      "result : 0.4267720117186442\n",
      "K :6\n",
      "result : 0.38856457438685604\n",
      "K :7\n",
      "result : 0.36220033249757666\n",
      "K :8\n",
      "result : 0.3389011334160065\n",
      "K :9\n",
      "result : 0.3164142248311789\n",
      "K :10\n",
      "result : 0.30056643723972853\n"
     ]
    }
   ],
   "source": [
    "result = algo('hclustering', numpyMatrix, TSS)"
   ]
  }
 ],
 "metadata": {
  "kernelspec": {
   "display_name": "Python 3",
   "language": "python",
   "name": "python3"
  },
  "language_info": {
   "codemirror_mode": {
    "name": "ipython",
    "version": 3
   },
   "file_extension": ".py",
   "mimetype": "text/x-python",
   "name": "python",
   "nbconvert_exporter": "python",
   "pygments_lexer": "ipython3",
   "version": "3.6.4"
  }
 },
 "nbformat": 4,
 "nbformat_minor": 2
}
